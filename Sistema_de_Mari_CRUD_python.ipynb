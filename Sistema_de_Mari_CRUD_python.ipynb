{
  "nbformat": 4,
  "nbformat_minor": 0,
  "metadata": {
    "colab": {
      "name": "Sistema de Mari - CRUD python.ipynb",
      "provenance": [],
      "collapsed_sections": []
    },
    "kernelspec": {
      "name": "python3",
      "display_name": "Python 3"
    }
  },
  "cells": [
    {
      "cell_type": "markdown",
      "metadata": {
        "id": "nUjdyaCw287r",
        "colab_type": "text"
      },
      "source": [
        "#Nessa primeira semana vamos construir um sistemas de CRUD, \n",
        "Um crud consiste em 4 operações basicas, \n",
        "CREATE, READ, UPDATE e DELETE. \n",
        "\n",
        "Tais operações são impressindiveis para quais quer projeto que precise desenvolver, por meio delas outras funcinalidades são criadas e melhoradas.\n",
        "\n",
        "O Objetivo e que vocês sejam capazes de usar as bibliotecas a baixo para opecações de validacoes e gravar as informações dentro de um arquivo csv.\n",
        "\n",
        "A ideia e construir um sistema usando as seguintes lib\n",
        "\n",
        "* CSV\n",
        " \n"
      ]
    },
    {
      "cell_type": "markdown",
      "metadata": {
        "id": "Y12xQPSe9N9l",
        "colab_type": "text"
      },
      "source": [
        "## Historia de usuário\n",
        "\n",
        "Uma historia de usuário é como um pedido do usuário para a construção do sistema em questão.\n",
        "EX: Veja a conversa com a Mari\n",
        "\n",
        "![alt text](https://raw.githubusercontent.com/juanengml/CRUD-flask/master/papomari.png)"
      ]
    },
    {
      "cell_type": "code",
      "metadata": {
        "id": "diW1L_sAEe3Q",
        "colab_type": "code",
        "colab": {}
      },
      "source": [
        "# importe a biblioteca csv\n"
      ],
      "execution_count": 0,
      "outputs": []
    },
    {
      "cell_type": "markdown",
      "metadata": {
        "id": "ZTxKW3NyEhss",
        "colab_type": "text"
      },
      "source": [
        "## A funcao create é uma funcao que recebe os dados e salva eles em um arquivo chamado \"banco.csv\"\n",
        "\n",
        "---\n",
        "\n"
      ]
    },
    {
      "cell_type": "code",
      "metadata": {
        "id": "5Z1amyB33gn9",
        "colab_type": "code",
        "colab": {}
      },
      "source": [
        "def create():\n",
        "  # codigo para pegar dados de entrada \n",
        "  # pode usar a funcao input para pegar os dados\n",
        "  # lembre de salvar seu cliente em um arquivo csv\n",
        "  # valide se o clienete é maior de idade\n",
        "  return {\"message\":\"cliente cadastrado com sucesso !\"}"
      ],
      "execution_count": 0,
      "outputs": []
    },
    {
      "cell_type": "markdown",
      "metadata": {
        "id": "ZdysX67NEtDK",
        "colab_type": "text"
      },
      "source": [
        "## A funcao read precisa ler os dados salvos no CSV "
      ]
    },
    {
      "cell_type": "code",
      "metadata": {
        "id": "_oTV4nup-VfG",
        "colab_type": "code",
        "colab": {}
      },
      "source": [
        "def read(ID_client=None):\n",
        "  # use essa funcao para ler sua base de dados\n",
        "  # para buscar o ID do cliente que procura se tiver ID na funcao\n",
        "  # caso nãão tenho apresente a lista dos clientes salvos\n",
        "  lista_cleintes = []\n",
        "  return {\"message\":lista_clientes}"
      ],
      "execution_count": 0,
      "outputs": []
    },
    {
      "cell_type": "markdown",
      "metadata": {
        "id": "QkMxJF9CE6DI",
        "colab_type": "text"
      },
      "source": [
        "## A funcao update precisa receber o id do cliente para poder atualizar os dados requiridos"
      ]
    },
    {
      "cell_type": "code",
      "metadata": {
        "id": "fG69dgPV_HF2",
        "colab_type": "code",
        "colab": {}
      },
      "source": [
        "def update(ID_client):\n",
        "  # cria esta funcao para conferir se o cliente existe na base\n",
        "  # se ele existe, atualize as informaçõões pertinentes\n",
        "  return {\"message\":\"Cliente Atualizado com sucesso\"}"
      ],
      "execution_count": 0,
      "outputs": []
    },
    {
      "cell_type": "markdown",
      "metadata": {
        "id": "QhnHDW9DFBkX",
        "colab_type": "text"
      },
      "source": [
        "## A funcao delete vai deletar o cliente cadastrado no banco"
      ]
    },
    {
      "cell_type": "code",
      "metadata": {
        "id": "20uGVzBhBhdL",
        "colab_type": "code",
        "colab": {}
      },
      "source": [
        "def delete(ID_client):\n",
        "  # antes de deletar checar se o cliente existe\n",
        "  # se existir bastar deletar da lista\n",
        "  return {\"message\":'cliente deletado com sucesso'}\n",
        "  "
      ],
      "execution_count": 0,
      "outputs": []
    },
    {
      "cell_type": "code",
      "metadata": {
        "id": "ogqMgCn3ByVk",
        "colab_type": "code",
        "colab": {}
      },
      "source": [
        ""
      ],
      "execution_count": 0,
      "outputs": []
    },
    {
      "cell_type": "markdown",
      "metadata": {
        "id": "UrJiMn6OFHWY",
        "colab_type": "text"
      },
      "source": [
        "---"
      ]
    },
    {
      "cell_type": "markdown",
      "metadata": {
        "id": "2faPvcPwFJHB",
        "colab_type": "text"
      },
      "source": [
        "## Aqui entramos nas funções de menu e popular banco usando uma amostra usada pela Mari"
      ]
    },
    {
      "cell_type": "code",
      "metadata": {
        "id": "i0Ev2BAuB-p4",
        "colab_type": "code",
        "colab": {}
      },
      "source": [
        "def menu():\n",
        "  ## dentro de menu deve ser possivel fazer as 4 operações sem sair do loop\n",
        "  ## para sair o usuario deve digitar 'sair', é o sistema deve encerrar\n",
        "  pass"
      ],
      "execution_count": 0,
      "outputs": []
    },
    {
      "cell_type": "code",
      "metadata": {
        "id": "Us2YorF2ChE5",
        "colab_type": "code",
        "colab": {}
      },
      "source": [
        ""
      ],
      "execution_count": 0,
      "outputs": []
    }
  ]
}